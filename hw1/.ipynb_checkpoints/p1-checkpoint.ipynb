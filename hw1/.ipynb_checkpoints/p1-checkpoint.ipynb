{
 "cells": [
  {
   "cell_type": "code",
   "execution_count": 1,
   "metadata": {},
   "outputs": [],
   "source": [
    "# Problem 1, 2, 3\n",
    "import numpy as np\n",
    "from numpy.linalg import norm\n",
    "\n",
    "Midterm = np.array([95, 86, 78, 99, 84, 90, 88, 75, 96, 96])\n",
    "Final = np.array([88, 88, 90, 95, 85, 77, 99, 80, 100, 80])"
   ]
  },
  {
   "cell_type": "markdown",
   "metadata": {},
   "source": [
    "## Problem 1"
   ]
  },
  {
   "cell_type": "code",
   "execution_count": 2,
   "metadata": {},
   "outputs": [
    {
     "name": "stdout",
     "output_type": "stream",
     "text": [
      "Midterm Max: 99\n",
      "Final Max: 100\n",
      "Midterm Min: 75\n",
      "Final Min: 77\n"
     ]
    }
   ],
   "source": [
    "# 1(a) Max and Min\n",
    "# Max\n",
    "def getMax(array):\n",
    "    max = 0\n",
    "    for item in array:\n",
    "        if item > max:\n",
    "            max = item\n",
    "    # return np.max(array)\n",
    "    return max\n",
    "\n",
    "Midterm_Max = getMax(Midterm)\n",
    "print(\"Midterm Max:\", Midterm_Max)\n",
    "Final_Max = getMax(Final)\n",
    "print(\"Final Max:\", Final_Max)\n",
    "\n",
    "# Min\n",
    "def getMin(array):\n",
    "    min = 1000\n",
    "    for item in array:\n",
    "        if item < min:\n",
    "            min = item\n",
    "    # return np.min(array)\n",
    "    return min\n",
    "\n",
    "Midterm_Min = getMin(Midterm)\n",
    "print(\"Midterm Min:\", Midterm_Min)\n",
    "Final_Min = getMin(Final)\n",
    "print(\"Final Min:\", Final_Min)"
   ]
  },
  {
   "cell_type": "code",
   "execution_count": 3,
   "metadata": {},
   "outputs": [
    {
     "name": "stdout",
     "output_type": "stream",
     "text": [
      "Midterm Mean: 88.7\n",
      "Fianl Mean: 88.2\n",
      "Midterm Mode: (array([96]),)\n",
      "Final Mode: (array([80, 88]),)\n",
      "Midterm Median: 89.0\n",
      "Final Median: 88.0\n"
     ]
    }
   ],
   "source": [
    "# 1(b) Mean, mode and median\n",
    "# Mean\n",
    "def getMean(array):\n",
    "    sum = 0\n",
    "    for item in array:\n",
    "        sum = sum + item\n",
    "    amount = len(array)\n",
    "    mean = sum / amount\n",
    "    return mean\n",
    "\n",
    "Midterm_Mean = getMean(Midterm)\n",
    "print(\"Midterm Mean:\", Midterm_Mean)\n",
    "Final_Mean = getMean(Final)\n",
    "print(\"Fianl Mean:\", Final_Mean)\n",
    "\n",
    "# Mode\n",
    "def getMode(array):\n",
    "    counts = np.bincount(array)    # get frequncy\n",
    "    max_count = getMax(counts)     # get highest frequency\n",
    "    \n",
    "    return np.where(counts==max_count)\n",
    "\n",
    "Midterm_Mode = getMode(Midterm)\n",
    "print(\"Midterm Mode:\", Midterm_Mode)\n",
    "Final_Mode = getMode(Final)\n",
    "print(\"Final Mode:\", Final_Mode)\n",
    "\n",
    "# Median\n",
    "def getMedian(array):\n",
    "    return np.median(array)\n",
    "\n",
    "Midterm_Median = getMedian(Midterm)\n",
    "print(\"Midterm Median:\", Midterm_Median)\n",
    "Final_Median = getMedian(Final)\n",
    "print(\"Final Median:\", Final_Median)"
   ]
  },
  {
   "cell_type": "code",
   "execution_count": 4,
   "metadata": {},
   "outputs": [
    {
     "name": "stdout",
     "output_type": "stream",
     "text": [
      "Midterm Sorted Array: [75 78 84 86 88 90 95 96 96 99]\n",
      "Midterm First Quartile: 84\n",
      "Midterm Third Quartile: 96\n",
      "Midterm Inter Quartile: 12\n",
      "Final Sorted Array: [ 77  80  80  85  88  88  90  95  99 100]\n",
      "Final First Quartile: 80\n",
      "Final Third Quartile: 95\n",
      "Final Inter Quartile: 15\n"
     ]
    }
   ],
   "source": [
    "# 1(c)First Quartile, Third Quartile and Inter-quartile Range\n",
    "# First Quartile\n",
    "def getFirstQuartile(array):\n",
    "    array = np.sort(array)    # sort array\n",
    "    length = len(array)\n",
    "    mid = (int)(length / 2)\n",
    "    first = (int)(mid / 2)\n",
    "    third = mid + first\n",
    "    \n",
    "    if length >= 4:    \n",
    "        if mid % 2== 0:\n",
    "            first_quartile = (array[first-1] + array[first]) / 2\n",
    "            third_quartile = (array[third-1] + array[third+1]) / 2\n",
    "        else:\n",
    "            first_quartile = array[first]\n",
    "            third_quartile = array[third]\n",
    "    \n",
    "    inter_quartile = third_quartile - first_quartile \n",
    "    \n",
    "    return array, first_quartile, third_quartile, inter_quartile\n",
    "    \n",
    "[Midterm_Sorted, Midterm_First_Quartile, Midterm_Third_Quartile, Midterm_Inter_Quartile] = getFirstQuartile(Midterm)\n",
    "print(\"Midterm Sorted Array:\", Midterm_Sorted)\n",
    "print(\"Midterm First Quartile:\", Midterm_First_Quartile)\n",
    "print(\"Midterm Third Quartile:\", Midterm_Third_Quartile)\n",
    "print(\"Midterm Inter Quartile:\", Midterm_Inter_Quartile)\n",
    "[Final_Sorted, Final_First_Quartile, Final_Third_Quartile, Final_Inter_Quartile] = getFirstQuartile(Final)\n",
    "print(\"Final Sorted Array:\", Final_Sorted)\n",
    "print(\"Final First Quartile:\",Final_First_Quartile)\n",
    "print(\"Final Third Quartile:\", Final_Third_Quartile)\n",
    "print(\"Final Inter Quartile:\", Final_Inter_Quartile)"
   ]
  },
  {
   "cell_type": "code",
   "execution_count": 5,
   "metadata": {},
   "outputs": [
    {
     "name": "stdout",
     "output_type": "stream",
     "text": [
      "Midterm Population Variance: 58.61\n",
      "Midterm Sample Variance: 65.122\n",
      "Final Population Variance: 57.56\n",
      "Final Sample Variance: 63.956\n"
     ]
    }
   ],
   "source": [
    "# 1(d)Variance (Sample & Population)\n",
    "def getVariancePopulation(array):\n",
    "    length = len(array)\n",
    "    square_sum = 0\n",
    "    mean = getMean(array)\n",
    "    \n",
    "    for item in array:\n",
    "        square_sum = square_sum + (item - mean) * (item - mean)  \n",
    "    \n",
    "    population_var = round(square_sum / length, 3)\n",
    "    \n",
    "    # return np.var(array)\n",
    "    return population_var\n",
    "\n",
    "def getVarianceSample(array):\n",
    "    length = len(array)\n",
    "    square_sum = 0\n",
    "    mean = getMean(array)\n",
    "    \n",
    "    for item in array:\n",
    "        square_sum = square_sum + (item - mean) * (item - mean)  \n",
    "    \n",
    "    sample_var = round(square_sum / (length - 1) , 3)\n",
    "    \n",
    "    # return np.var(array)\n",
    "    return sample_var\n",
    "\n",
    "Midterm_Population_Variance = getVariancePopulation(Midterm)\n",
    "print(\"Midterm Population Variance:\", Midterm_Population_Variance)\n",
    "Midterm_Sample_Variance = getVarianceSample(Midterm)\n",
    "print(\"Midterm Sample Variance:\", Midterm_Sample_Variance)\n",
    "Final_Population_Variance = getVariancePopulation(Final)\n",
    "Final_Sample_Variance = getVarianceSample(Final)\n",
    "print(\"Final Population Variance:\", Final_Population_Variance)\n",
    "print(\"Final Sample Variance:\", Final_Sample_Variance)                "
   ]
  },
  {
   "cell_type": "code",
   "execution_count": 6,
   "metadata": {},
   "outputs": [
    {
     "name": "stdout",
     "output_type": "stream",
     "text": [
      "Midterm Standard Population Deviation: 7.656\n",
      "Midterm Standard Sample Deviation: 8.07\n",
      "Final Standard Population Deviation: 7.587\n",
      "Final Standard Sample Deviation: 7.997\n"
     ]
    }
   ],
   "source": [
    "# 1(e)Standard Deviation\n",
    "def getStandardDeviationPopulation(array):\n",
    "    # return np.std(array)\n",
    "    return round(np.sqrt(getVariancePopulation(array)),3)\n",
    "\n",
    "def getStandardDeviationSample(array):\n",
    "    # return np.std(array)\n",
    "    return round(np.sqrt(getVarianceSample(array)), 3)\n",
    "\n",
    "Midterm_Standard_Population_Deviation = getStandardDeviationPopulation(Midterm)\n",
    "print(\"Midterm Standard Population Deviation:\", Midterm_Standard_Population_Deviation)\n",
    "Midterm_Standard_Sample_Deviation = getStandardDeviationSample(Midterm)\n",
    "print(\"Midterm Standard Sample Deviation:\", Midterm_Standard_Sample_Deviation) \n",
    "Final_Standard_Population_Deviation = getStandardDeviationPopulation(Final)\n",
    "print(\"Final Standard Population Deviation:\", Final_Standard_Population_Deviation)\n",
    "Final_Standard_Sample_Deviation = getStandardDeviationSample(Final)\n",
    "print(\"Final Standard Sample Deviation:\", Final_Standard_Sample_Deviation)  "
   ]
  },
  {
   "cell_type": "markdown",
   "metadata": {},
   "source": [
    "## Problem 2"
   ]
  },
  {
   "cell_type": "code",
   "execution_count": 7,
   "metadata": {},
   "outputs": [
    {
     "name": "stdout",
     "output_type": "stream",
     "text": [
      "Midterm MinMax Normalization Student 1: 0.833\n",
      "Midterm MinMax Normalization Student 2: 0.458\n",
      "Midterm MinMax Normalization Student 3: 0.125\n"
     ]
    }
   ],
   "source": [
    "# 2(a) Min-Max Normalization\n",
    "def getMinMaxNormalization(array):\n",
    "    old_min = getMin(array)\n",
    "    old_max = getMax(array)\n",
    "    new_min = 0\n",
    "    new_max = 1\n",
    "    \n",
    "    new_list = []\n",
    "    for item in array:\n",
    "        new_list.append(round((item-old_min)/(old_max-old_min)*(new_max-new_min)+new_min,3))\n",
    "        \n",
    "    new_array = np.array(new_list)\n",
    "    return new_array\n",
    "\n",
    "Midterm_MinMax_Normalization = getMinMaxNormalization(Midterm)\n",
    "\n",
    "print(\"Midterm MinMax Normalization Student 1:\", Midterm_MinMax_Normalization[0])\n",
    "print(\"Midterm MinMax Normalization Student 2:\", Midterm_MinMax_Normalization[1])\n",
    "print(\"Midterm MinMax Normalization Student 3:\", Midterm_MinMax_Normalization[2])"
   ]
  },
  {
   "cell_type": "code",
   "execution_count": 8,
   "metadata": {},
   "outputs": [
    {
     "name": "stdout",
     "output_type": "stream",
     "text": [
      "Midterm Variance MinMax Normalization: 0.102\n"
     ]
    }
   ],
   "source": [
    "# 2(b) Variance(Population) of Min-Max Normalization\n",
    "def getVarianceMinMaxNormalization(array):\n",
    "    new_array = getMinMaxNormalization(array)\n",
    "    return getVariancePopulation(new_array)\n",
    "\n",
    "Midterm_Variance_MinMax_Normalization = getVarianceMinMaxNormalization(Midterm)\n",
    "print(\"Midterm Variance MinMax Normalization:\", Midterm_Variance_MinMax_Normalization)"
   ]
  },
  {
   "cell_type": "code",
   "execution_count": 9,
   "metadata": {},
   "outputs": [
    {
     "name": "stdout",
     "output_type": "stream",
     "text": [
      "Final ZScore Normalization Student 4: 0.896\n",
      "Final ZScore Normalization Student 5: -0.422\n",
      "Final ZScore Normalization Student 6: -1.476\n"
     ]
    }
   ],
   "source": [
    "# 2(c) Z-Score Normalizaion\n",
    "def getZScoreNormalization(array):\n",
    "    mean = getMean(array)\n",
    "    std = getStandardDeviationPopulation(array)\n",
    "    \n",
    "    new_list = []\n",
    "    for item in array:\n",
    "        new_list.append(round((item-mean)/std,3))\n",
    "    \n",
    "    new_array = np.array(new_list)\n",
    "    return new_array\n",
    "\n",
    "Final_ZScore_Normalization = getZScoreNormalization(Final)\n",
    "print(\"Final ZScore Normalization Student 4:\", Final_ZScore_Normalization[3])\n",
    "print(\"Final ZScore Normalization Student 5:\", Final_ZScore_Normalization[4])\n",
    "print(\"Final ZScore Normalization Student 6:\", Final_ZScore_Normalization[5])"
   ]
  },
  {
   "cell_type": "code",
   "execution_count": 10,
   "metadata": {},
   "outputs": [
    {
     "name": "stdout",
     "output_type": "stream",
     "text": [
      "Final Variance ZScore Normalization: 1.0\n"
     ]
    }
   ],
   "source": [
    "# 2(d) Variance(Population) of Z-Score Normalization\n",
    "def getVarianceZScoreNormalization(array):\n",
    "    new_array = getZScoreNormalization(array)\n",
    "    return getVariancePopulation(new_array)\n",
    "\n",
    "Final_Variance_ZScore_Normalization = getVarianceZScoreNormalization(Final)\n",
    "print(\"Final Variance ZScore Normalization:\", Final_Variance_ZScore_Normalization)"
   ]
  },
  {
   "cell_type": "markdown",
   "metadata": {},
   "source": [
    "## Problem 3"
   ]
  },
  {
   "cell_type": "code",
   "execution_count": 11,
   "metadata": {},
   "outputs": [
    {
     "name": "stdout",
     "output_type": "stream",
     "text": [
      "Covariance: 18.16\n"
     ]
    }
   ],
   "source": [
    "# 3(a) Covariance(population)\n",
    "def getCovariancePopulation(array1, array2):\n",
    "    mean1 = getMean(array1)\n",
    "    mean2 = getMean(array2)\n",
    "    length = len(array1)\n",
    "    \n",
    "    covariance = sum(array1 * array2) / length - mean1 * mean2\n",
    "    return round(covariance, 3)\n",
    "\n",
    "Covariance = getCovariancePopulation(Midterm, Final)\n",
    "print(\"Covariance:\", Covariance)"
   ]
  },
  {
   "cell_type": "code",
   "execution_count": 12,
   "metadata": {},
   "outputs": [
    {
     "name": "stdout",
     "output_type": "stream",
     "text": [
      "Peasrson Correlation Coefficient: 0.313\n"
     ]
    }
   ],
   "source": [
    "# 3(b) Pearson's Correlation Coefficient\n",
    "def getPearsonCorrelation(array1, array2):\n",
    "    covariance = getCovariancePopulation(array1, array2)\n",
    "    std1 = getStandardDeviationPopulation(array1)\n",
    "    std2 = getStandardDeviationPopulation(array2)\n",
    "    \n",
    "    pearson = covariance / (std1 * std2)\n",
    "    return round(pearson, 3)\n",
    "\n",
    "PearsonCorrelation = getPearsonCorrelation(Midterm, Final)\n",
    "print(\"Peasrson Correlation Coefficient:\", PearsonCorrelation)"
   ]
  },
  {
   "cell_type": "code",
   "execution_count": 13,
   "metadata": {},
   "outputs": [
    {
     "name": "stdout",
     "output_type": "stream",
     "text": [
      "Manhattan Distance: 75\n",
      "Euclidean Distance: 28.302\n",
      "Supremum Distance: 16\n",
      "Cosine Similarity: 0.995\n"
     ]
    }
   ],
   "source": [
    "# 3(d) Distance \n",
    "# Manhattan Distance\n",
    "def getManhattan(array1, array2):\n",
    "    length = len(array1)\n",
    "    \n",
    "    sum = 0\n",
    "    for iter in range(length):\n",
    "        sum = sum + abs(array1[iter] - array2[iter])\n",
    "    \n",
    "    return sum\n",
    "\n",
    "Manhattan = getManhattan(Midterm, Final)\n",
    "print(\"Manhattan Distance:\", Manhattan)\n",
    "\n",
    "# Euclidean Distance\n",
    "def getEuclidean(array1, array2):\n",
    "    length = len(array1)\n",
    "    \n",
    "    sum = 0\n",
    "    for iter in range(length):\n",
    "        sum = sum + pow((array1[iter] - array2[iter]),2)\n",
    "    \n",
    "    return round(pow(sum, 0.5), 3)\n",
    "\n",
    "Euclidean = getEuclidean(Midterm, Final)\n",
    "print(\"Euclidean Distance:\", Euclidean)\n",
    "\n",
    "# Supremum Distance\n",
    "def getSupremum(array1, array2):\n",
    "    length = len(array1)\n",
    "    \n",
    "    max = 0\n",
    "    for iter in range(length):\n",
    "        temp = abs(array1[iter] - array2[iter])\n",
    "        if max < temp:\n",
    "            max = temp\n",
    "    \n",
    "    return round(temp, 3)\n",
    "\n",
    "Supremum = getSupremum(Midterm, Final)\n",
    "print(\"Supremum Distance:\", Supremum)\n",
    "\n",
    "# Cosine Similarity\n",
    "def getCosineSimilarity(array1, array2):\n",
    "    cosine = np.dot(array1, array2) / (pow(sum(pow(array1, 2)), 0.5) * pow(sum(pow(array2, 2)),0.5))\n",
    "    \n",
    "    #return np.dot(array1, array2) / (norm(array1)*norm(array2))\n",
    "    return round(cosine, 3)\n",
    "\n",
    "Cosine = getCosineSimilarity(Midterm, Final)\n",
    "print(\"Cosine Similarity:\", Cosine)"
   ]
  },
  {
   "cell_type": "markdown",
   "metadata": {},
   "source": [
    "## Problem 4"
   ]
  },
  {
   "cell_type": "code",
   "execution_count": 14,
   "metadata": {},
   "outputs": [],
   "source": [
    "Purchase = np.array([[200, 80], [20, 3000]])"
   ]
  },
  {
   "cell_type": "code",
   "execution_count": 15,
   "metadata": {},
   "outputs": [
    {
     "name": "stdout",
     "output_type": "stream",
     "text": [
      "X2 Correlation: 2062.333\n"
     ]
    }
   ],
   "source": [
    "# 4(a) x^2 correlation\n",
    "def getX2Correlation(array):\n",
    "    length = array.shape[0]\n",
    "    \n",
    "    sum_row_0 = array[0][0] + array[0][1]\n",
    "    sum_row_1 = array[1][0] + array[1][1]\n",
    "    sum_col_0 = array[0][0] + array[1][0]\n",
    "    sum_col_1 = array[0][1] + array[1][1]\n",
    "    sum_total = sum_row_0 + sum_row_1\n",
    "    \n",
    "    new_array = np.zeros([2,2])\n",
    "    new_array[0][0] = sum_row_0 * sum_col_0 / sum_total\n",
    "    new_array[0][1] = sum_row_0 * sum_col_1 / sum_total\n",
    "    new_array[1][0] = sum_row_1 * sum_col_0 / sum_total\n",
    "    new_array[1][1] = sum_row_1 * sum_col_1 / sum_total\n",
    "    \n",
    "    sum = 0\n",
    "    for i in range(length):\n",
    "        for j in range(length):\n",
    "            sum = sum + pow((array[i][j] - new_array[i][j]), 2) / new_array[i][j]\n",
    "    return round(sum, 3)\n",
    "\n",
    "X2Correlation = getX2Correlation(Purchase)\n",
    "print(\"X2 Correlation:\", X2Correlation)"
   ]
  },
  {
   "cell_type": "code",
   "execution_count": 16,
   "metadata": {},
   "outputs": [
    {
     "name": "stdout",
     "output_type": "stream",
     "text": [
      "Kullback Leibler Divergence: 1.44\n"
     ]
    }
   ],
   "source": [
    "# 4(d) Kullback-Leibler Divergence\n",
    "def getKL(p, q):\n",
    "    length = len(p)\n",
    "    sum = 0\n",
    "    for iter in range(length):\n",
    "        sum = sum + q[iter] *np.log(q[iter]/p[iter]) \n",
    "        \n",
    "    return round(sum, 3)\n",
    "\n",
    "p = np.array([0.061, 0.030, 0.909])\n",
    "q = np.array([0.5, 0.3, 0.2])\n",
    "KL = getKL(p, q)\n",
    "print(\"Kullback Leibler Divergence:\", KL)"
   ]
  }
 ],
 "metadata": {
  "kernelspec": {
   "display_name": "Python 3",
   "language": "python",
   "name": "python3"
  },
  "language_info": {
   "codemirror_mode": {
    "name": "ipython",
    "version": 3
   },
   "file_extension": ".py",
   "mimetype": "text/x-python",
   "name": "python",
   "nbconvert_exporter": "python",
   "pygments_lexer": "ipython3",
   "version": "3.6.5"
  }
 },
 "nbformat": 4,
 "nbformat_minor": 2
}
