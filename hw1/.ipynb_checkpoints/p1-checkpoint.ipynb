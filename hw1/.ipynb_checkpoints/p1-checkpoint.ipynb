{
 "cells": [
  {
   "cell_type": "code",
   "execution_count": 1,
   "metadata": {},
   "outputs": [],
   "source": [
    "# Problem 1, 2, 3\n",
    "import numpy as np\n",
    "\n",
    "Midterm = np.array([95, 86, 78, 99, 84, 90, 88, 75, 96, 96])\n",
    "Final = np.array([88, 88, 90, 95, 85, 77, 99, 80, 100, 80])"
   ]
  },
  {
   "cell_type": "code",
   "execution_count": 2,
   "metadata": {},
   "outputs": [
    {
     "name": "stdout",
     "output_type": "stream",
     "text": [
      "Midterm Max: 99 99\n",
      "Final Max: 100 100\n",
      "Midterm Min: 75\n",
      "Final Min: 77\n"
     ]
    }
   ],
   "source": [
    "# 1(a) Max and Min\n",
    "# Max\n",
    "def getMax(array):\n",
    "    max = 0\n",
    "    for item in array:\n",
    "        if item > max:\n",
    "            max = item\n",
    "    # return np.max(array)\n",
    "    return max\n",
    "\n",
    "Midterm_Max = getMax(Midterm)\n",
    "print(\"Midterm Max:\", Midterm_Max)\n",
    "Final_Max = getMax(Final)\n",
    "print(\"Final Max:\", Final_Max)\n",
    "\n",
    "# Min\n",
    "def getMin(array):\n",
    "    min = 1000\n",
    "    for item in array:\n",
    "        if item < min:\n",
    "            min = item\n",
    "    # return np.min(array)\n",
    "    return min\n",
    "\n",
    "Midterm_Min = getMin(Midterm)\n",
    "print(\"Midterm Min:\", Midterm_Min)\n",
    "Final_Min = getMin(Final)\n",
    "print(\"Final Min:\", Final_Min)"
   ]
  },
  {
   "cell_type": "code",
   "execution_count": 3,
   "metadata": {},
   "outputs": [
    {
     "name": "stdout",
     "output_type": "stream",
     "text": [
      "Midterm Mean: 88.7\n",
      "Fianl Mean: 88.2\n",
      "Midterm Mode: (array([96]),)\n",
      "Final Mode: (array([80, 88]),)\n",
      "Midterm Median: 89.0\n",
      "Final Median: 88.0\n"
     ]
    }
   ],
   "source": [
    "# 1(b) Mean, mode and median\n",
    "# Mean\n",
    "def getMean(array):\n",
    "    sum = 0\n",
    "    for item in array:\n",
    "        sum = sum + item\n",
    "    amount = len(array)\n",
    "    mean = sum / amount\n",
    "    return mean\n",
    "\n",
    "Midterm_Mean = getMean(Midterm)\n",
    "print(\"Midterm Mean:\", Midterm_Mean)\n",
    "Final_Mean = getMean(Final)\n",
    "print(\"Fianl Mean:\", Final_Mean)\n",
    "\n",
    "# Mode\n",
    "def getMode(array):\n",
    "    counts = np.bincount(array)    # get frequncy\n",
    "    max_count = getMax(counts)     # get highest frequency\n",
    "    \n",
    "    return np.where(counts==max_count)\n",
    "\n",
    "Midterm_Mode = getMode(Midterm)\n",
    "print(\"Midterm Mode:\", Midterm_Mode)\n",
    "Final_Mode = getMode(Final)\n",
    "print(\"Final Mode:\", Final_Mode)\n",
    "\n",
    "# Median\n",
    "def getMedian(array):\n",
    "    return np.median(array)\n",
    "\n",
    "Midterm_Median = getMedian(Midterm)\n",
    "print(\"Midterm Median:\", Midterm_Median)\n",
    "Final_Median = getMedian(Final)\n",
    "print(\"Final Median:\", Final_Median)"
   ]
  }
 ],
 "metadata": {
  "kernelspec": {
   "display_name": "Python 3",
   "language": "python",
   "name": "python3"
  },
  "language_info": {
   "codemirror_mode": {
    "name": "ipython",
    "version": 3
   },
   "file_extension": ".py",
   "mimetype": "text/x-python",
   "name": "python",
   "nbconvert_exporter": "python",
   "pygments_lexer": "ipython3",
   "version": "3.6.5"
  }
 },
 "nbformat": 4,
 "nbformat_minor": 2
}
