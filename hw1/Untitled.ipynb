{
 "cells": [
  {
   "cell_type": "code",
   "execution_count": 1,
   "metadata": {},
   "outputs": [],
   "source": [
    "# Problem 1, 2, 3\n",
    "import numpy as np\n",
    "\n",
    "Midterm = np.array([95, 86, 78, 99, 84, 90, 88, 75, 96, 96])\n",
    "Final = np.array([88, 88, 90, 95, 85, 77, 99, 80, 100, 80])"
   ]
  },
  {
   "cell_type": "code",
   "execution_count": 2,
   "metadata": {},
   "outputs": [
    {
     "name": "stdout",
     "output_type": "stream",
     "text": [
      "Midterm Max: 99\n",
      "Final Max: 100\n",
      "Midterm Min: 75\n",
      "Final Min: 77\n"
     ]
    }
   ],
   "source": [
    "# 1(a) Max and Min\n",
    "# Max\n",
    "def getMax(array):\n",
    "    max = 0\n",
    "    for item in array:\n",
    "        if item > max:\n",
    "            max = item\n",
    "    return max\n",
    "\n",
    "Midterm_Max = getMax(Midterm)\n",
    "print(\"Midterm Max:\", Midterm_Max)\n",
    "Final_Max = getMax(Final)\n",
    "print(\"Final Max:\", Final_Max)\n",
    "\n",
    "# Min\n",
    "def getMin(array):\n",
    "    min = 1000\n",
    "    for item in array:\n",
    "        if item < min:\n",
    "            min = item\n",
    "    return min\n",
    "\n",
    "Midterm_Min = getMin(Midterm)\n",
    "print(\"Midterm Min:\", Midterm_Min)\n",
    "Final_Min = getMin(Final)\n",
    "print(\"Final Min:\", Final_Min)"
   ]
  },
  {
   "cell_type": "code",
   "execution_count": null,
   "metadata": {},
   "outputs": [],
   "source": []
  }
 ],
 "metadata": {
  "kernelspec": {
   "display_name": "Python 3",
   "language": "python",
   "name": "python3"
  },
  "language_info": {
   "codemirror_mode": {
    "name": "ipython",
    "version": 3
   },
   "file_extension": ".py",
   "mimetype": "text/x-python",
   "name": "python",
   "nbconvert_exporter": "python",
   "pygments_lexer": "ipython3",
   "version": "3.6.5"
  }
 },
 "nbformat": 4,
 "nbformat_minor": 2
}
